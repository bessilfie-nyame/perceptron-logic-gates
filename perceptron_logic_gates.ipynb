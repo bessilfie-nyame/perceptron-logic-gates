{
 "cells": [
  {
   "cell_type": "code",
   "execution_count": 1,
   "id": "9ccaaecd",
   "metadata": {},
   "outputs": [],
   "source": [
    "from sklearn.linear_model import Perceptron\n",
    "import matplotlib.pyplot as plt\n",
    "import numpy as np\n",
    "from itertools import product"
   ]
  },
  {
   "cell_type": "code",
   "execution_count": 2,
   "id": "e7350e65",
   "metadata": {},
   "outputs": [
    {
     "name": "stdout",
     "output_type": "stream",
     "text": [
      "1.0\n",
      "[-1.  3.  1.]\n"
     ]
    },
    {
     "name": "stderr",
     "output_type": "stream",
     "text": [
      "<ipython-input-2-ad2bc7b4d192>:16: MatplotlibDeprecationWarning: shading='flat' when X and Y have the same dimensions as C is deprecated since 3.3.  Either specify the corners of the quadrilaterals with X and Y, or pass shading='auto', 'nearest' or 'gouraud', or set rcParams['pcolor.shading'].  This will become an error two minor releases later.\n",
      "  heatmap = plt.pcolormesh(x_values, y_values, distances_matrix)\n"
     ]
    },
    {
     "data": {
      "image/png": "[encoded data removed]",
      "text/plain": [
       "<Figure size 432x288 with 2 Axes>"
      ]
     },
     "metadata": {
      "needs_background": "light"
     },
     "output_type": "display_data"
    }
   ],
   "source": [
    "data = [[0, 0], [0, 1], [1, 0], [1, 1]]\n",
    "# labels = [0, 0, 0, 1]\n",
    "# labels = [0, 1, 1, 0]\n",
    "labels = [0, 1, 1, 1]\n",
    "plt.scatter([point[0] for point in data], [point[1] for point in data], c=labels)\n",
    "\n",
    "classifier = Perceptron(max_iter =40)\n",
    "classifier.fit(data, labels)\n",
    "print(classifier.score(data, labels))\n",
    "print(classifier.decision_function([[0, 0], [1, 1], [0.5, 0.5]]))\n",
    "x_values, y_values = np.linspace(0, 1, 100), np.linspace(0, 1, 100)\n",
    "point_grid = list(product(x_values, y_values))\n",
    "distances = classifier.decision_function(point_grid)\n",
    "abs_distances = [abs(dist) for dist in distances]\n",
    "distances_matrix = np.reshape(abs_distances, (100, 100))\n",
    "heatmap = plt.pcolormesh(x_values, y_values, distances_matrix)\n",
    "plt.colorbar(heatmap)\n",
    "plt.show()"
   ]
  },
  {
   "cell_type": "code",
   "execution_count": null,
   "id": "b383ede0",
   "metadata": {},
   "outputs": [],
   "source": []
  }
 ],
 "metadata": {
  "kernelspec": {
   "display_name": "Python 3",
   "language": "python",
   "name": "python3"
  },
  "language_info": {
   "codemirror_mode": {
    "name": "ipython",
    "version": 3
   },
   "file_extension": ".py",
   "mimetype": "text/x-python",
   "name": "python",
   "nbconvert_exporter": "python",
   "pygments_lexer": "ipython3",
   "version": "3.8.5"
  }
 },
 "nbformat": 4,
 "nbformat_minor": 5
}
